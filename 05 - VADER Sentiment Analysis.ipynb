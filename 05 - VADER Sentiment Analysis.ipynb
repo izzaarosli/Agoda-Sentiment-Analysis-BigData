{
 "cells": [
  {
   "cell_type": "code",
   "execution_count": 0,
   "metadata": {
    "application/vnd.databricks.v1+cell": {
     "cellMetadata": {
      "byteLimit": 2048000,
      "implicitDf": true,
      "rowLimit": 10000
     },
     "inputWidgets": {},
     "nuid": "2dc8bf53-34c5-4333-ba04-6d3907aa921a",
     "showTitle": false,
     "tableResultSettingsMap": {},
     "title": ""
    }
   },
   "outputs": [],
   "source": [
    "df_sentiment = spark.sql(\"SELECT * FROM silver_dataprocessing.default.silver_agoda_reviews_details\")"
   ]
  },
  {
   "cell_type": "code",
   "execution_count": 0,
   "metadata": {
    "application/vnd.databricks.v1+cell": {
     "cellMetadata": {
      "byteLimit": 2048000,
      "rowLimit": 10000
     },
     "inputWidgets": {},
     "nuid": "00559120-af68-4011-89bd-b4eda4792da9",
     "showTitle": false,
     "tableResultSettingsMap": {},
     "title": ""
    }
   },
   "outputs": [],
   "source": [
    "%pip install nltk\n",
    "\n",
    "import nltk\n",
    "nltk.download('vader_lexicon')\n",
    "\n",
    "from nltk.sentiment.vader import SentimentIntensityAnalyzer\n",
    "from pyspark.sql.functions import udf, when\n",
    "from pyspark.sql.types import *\n",
    "\n",
    "analyser = SentimentIntensityAnalyzer()\n",
    "\n",
    "# define a function to get the sentiment scores\n",
    "def sentiment_analyzer_scores(sentence):\n",
    "    score = analyser.polarity_scores(sentence)\n",
    "    return score\n",
    "  \n",
    "# sentiment analysis using VADER\n",
    "def vader_analyze_review(df):\n",
    "  # create a UDF to apply the sentiment analysis function\n",
    "  sentiment_analyzer_udf = udf(lambda x: sentiment_analyzer_scores(str(x)), MapType(StringType(), FloatType()))\n",
    "  \n",
    "  # apply the UDF to the DataFrame column\n",
    "  df = df.withColumn('vader_scores', sentiment_analyzer_udf(df['content_no_emojis']))\n",
    "\n",
    "  # extract compound score\n",
    "  df = df.withColumn('compound', df['vader_scores']['compound'])\n",
    "\n",
    "  # determine sentiment based on the compound score\n",
    "  df = df.withColumn('sentiment', when(df['compound'] >= 0.05, 'Positive').when(df['compound'] <= -0.05, 'Negative').otherwise('Neutral'))\n",
    "\n",
    "  return df\n",
    "\n",
    "df_sentiment = vader_analyze_review(df_sentiment)\n",
    "df_sentiment = df_sentiment.drop('vader_scores', 'compound')\n",
    "display(df_sentiment)"
   ]
  },
  {
   "cell_type": "code",
   "execution_count": 0,
   "metadata": {
    "application/vnd.databricks.v1+cell": {
     "cellMetadata": {
      "byteLimit": 2048000,
      "rowLimit": 10000
     },
     "inputWidgets": {},
     "nuid": "ab7d9b1d-2b62-4dd1-90fe-6d7c90d102fd",
     "showTitle": false,
     "tableResultSettingsMap": {},
     "title": ""
    }
   },
   "outputs": [],
   "source": [
    "df_sentiment.write.format(\"delta\") \\\n",
    "    .mode(\"overwrite\") \\\n",
    "    .option(\"overwriteSchema\", \"true\") \\\n",
    "    .saveAsTable(\"silver_dataprocessing.default.silver_agoda_reviews_details_2\")"
   ]
  },
  {
   "cell_type": "code",
   "execution_count": 0,
   "metadata": {
    "application/vnd.databricks.v1+cell": {
     "cellMetadata": {
      "byteLimit": 2048000,
      "rowLimit": 10000
     },
     "inputWidgets": {},
     "nuid": "4f4eb463-14ce-4490-a813-f7dc063035ef",
     "showTitle": false,
     "tableResultSettingsMap": {},
     "title": ""
    }
   },
   "outputs": [
    {
     "output_type": "execute_result",
     "data": {
      "text/plain": [
       "DataFrame[]"
      ]
     },
     "execution_count": 1,
     "metadata": {},
     "output_type": "execute_result"
    }
   ],
   "source": [
    "%python\n",
    "spark.sql(\"GRANT SELECT ON TABLE silver_dataprocessing.default.silver_agoda_reviews_details_2 TO `23105612@siswa365.um.edu.my`\")"
   ]
  },
  {
   "cell_type": "code",
   "execution_count": 0,
   "metadata": {
    "application/vnd.databricks.v1+cell": {
     "cellMetadata": {
      "byteLimit": 2048000,
      "implicitDf": true,
      "rowLimit": 10000
     },
     "inputWidgets": {},
     "nuid": "10503293-b69d-46b0-8b65-1cb60ca5c6d5",
     "showTitle": false,
     "tableResultSettingsMap": {},
     "title": ""
    }
   },
   "outputs": [],
   "source": [
    "%sql\n",
    "SELECT userName, content_no_emojis, language, sentiment FROM silver_dataprocessing.default.silver_agoda_reviews_details_2"
   ]
  },
  {
   "cell_type": "code",
   "execution_count": 0,
   "metadata": {
    "application/vnd.databricks.v1+cell": {
     "cellMetadata": {},
     "inputWidgets": {},
     "nuid": "cc6858ec-f2ce-4bb5-b31d-d2bce4f693bf",
     "showTitle": false,
     "tableResultSettingsMap": {},
     "title": ""
    }
   },
   "outputs": [],
   "source": []
  }
 ],
 "metadata": {
  "application/vnd.databricks.v1+notebook": {
   "computePreferences": null,
   "dashboards": [],
   "environmentMetadata": {
    "base_environment": "",
    "environment_version": "2"
   },
   "inputWidgetPreferences": null,
   "language": "python",
   "notebookMetadata": {
    "mostRecentlyExecutedCommandWithImplicitDF": {
     "commandId": 7197660235433303,
     "dataframes": [
      "_sqldf"
     ]
    },
    "pythonIndentUnit": 4
   },
   "notebookName": "VADER Sentiment Analysis",
   "widgets": {}
  },
  "language_info": {
   "name": "python"
  }
 },
 "nbformat": 4,
 "nbformat_minor": 0
}