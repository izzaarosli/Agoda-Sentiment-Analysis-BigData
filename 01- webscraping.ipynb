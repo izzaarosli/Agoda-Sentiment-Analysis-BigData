{
 "cells": [
  {
   "cell_type": "code",
   "execution_count": 0,
   "metadata": {
    "application/vnd.databricks.v1+cell": {
     "cellMetadata": {
      "byteLimit": 2048000,
      "rowLimit": 10000
     },
     "inputWidgets": {},
     "nuid": "ae04d704-72af-41a9-b57c-27db8fecef13",
     "showTitle": false,
     "tableResultSettingsMap": {},
     "title": ""
    }
   },
   "outputs": [
    {
     "output_type": "stream",
     "name": "stdout",
     "output_type": "stream",
     "text": [
      "Requirement already satisfied: google_play_scraper in /local_disk0/.ephemeral_nfs/envs/pythonEnv-816e74d2-a65e-4944-a3b5-9b7967871dff/lib/python3.11/site-packages (1.2.7)\n\u001B[43mNote: you may need to restart the kernel using %restart_python or dbutils.library.restartPython() to use updated packages.\u001B[0m\n"
     ]
    }
   ],
   "source": [
    "!pip install google_play_scraper"
   ]
  },
  {
   "cell_type": "code",
   "execution_count": 0,
   "metadata": {
    "application/vnd.databricks.v1+cell": {
     "cellMetadata": {
      "byteLimit": 2048000,
      "rowLimit": 10000
     },
     "inputWidgets": {},
     "nuid": "a93df702-e6eb-46d9-83d3-24eaacef5f36",
     "showTitle": false,
     "tableResultSettingsMap": {},
     "title": ""
    }
   },
   "outputs": [
    {
     "output_type": "stream",
     "name": "stdout",
     "output_type": "stream",
     "text": [
      "Scraping Agoda reviews for 2025-05-31...\nReached reviews before yesterday. Stopping.\nCollected 12 reviews so far...\nUploading to Azure Blob Storage...\nUpload complete: agoda_reviews_20250531.json to container 'bronze-webscrape'\n"
     ]
    }
   ],
   "source": [
    "import json\n",
    "import time\n",
    "from io import StringIO\n",
    "from datetime import datetime, timedelta\n",
    "from google_play_scraper import reviews, Sort\n",
    "from azure.storage.blob import BlobClient\n",
    "\n",
    "#CONFIGURATION\n",
    "APP_ID = \"com.agoda.mobile.consumer\"\n",
    "YESTERDAY = (datetime.today() + timedelta(hours=8) - timedelta(days=1)).date()\n",
    "BATCH_SIZE = 200\n",
    "MAX_TOTAL = 100000\n",
    "\n",
    "#Azure Blob Storage info\n",
    "ACCOUNT_URL = \"https://blob.core.windows.net\"\n",
    "SAS_TOKEN = \"sv=2024-11-04&ss=bfqt&srt=sco&sp=rwdlacupiytfx&se=2026-06-30T20:37:08Z&st=2025-05-18T12:37:08Z&spr=https&sig=ztkYcXLKHQ9nC5CE3PThs1OY%2FTDHHzSZ8JD4J6JUc1s%3D\"\n",
    "CONTAINER_NAME = \"bronze-webscrape\"\n",
    "\n",
    "# SCRAPE GOOGLE PLAY REVIEWS\n",
    "print(f\"Scraping Agoda reviews for {YESTERDAY}...\")\n",
    "\n",
    "all_reviews = []\n",
    "next_token = None\n",
    "\n",
    "while True:\n",
    "    result, next_token = reviews(\n",
    "        APP_ID,\n",
    "        lang='en',\n",
    "        country='my',\n",
    "        sort=Sort.NEWEST,\n",
    "        count=BATCH_SIZE,\n",
    "        continuation_token=next_token\n",
    "    )\n",
    "\n",
    "    for r in result:\n",
    "        review_date = r.get(\"at\")\n",
    "        if not isinstance(review_date, datetime):\n",
    "            continue\n",
    "\n",
    "        if review_date.date() < YESTERDAY:\n",
    "            print(\"Reached reviews before yesterday. Stopping.\")\n",
    "            next_token = None\n",
    "            break\n",
    "\n",
    "        if review_date.date() == YESTERDAY:\n",
    "            r[\"at\"] = review_date.isoformat()\n",
    "            if isinstance(r.get(\"repliedAt\"), datetime):\n",
    "                r[\"repliedAt\"] = r[\"repliedAt\"].isoformat()\n",
    "            all_reviews.append(r)\n",
    "\n",
    "    print(f\"Collected {len(all_reviews)} reviews so far...\")\n",
    "\n",
    "    if not next_token or len(all_reviews) >= MAX_TOTAL:\n",
    "        break\n",
    "\n",
    "    time.sleep(1)\n",
    "\n",
    "# UPLOAD TO AZURE BLOB STORAGE\n",
    "print(\"Uploading to Azure Blob Storage...\")\n",
    "\n",
    "filename = f\"agoda_reviews_{YESTERDAY.strftime('%Y%m%d')}.json\"\n",
    "\n",
    "# Convert to string and encode to bytes\n",
    "string_stream = StringIO()\n",
    "json.dump(all_reviews, string_stream, indent=2, ensure_ascii=False)\n",
    "byte_data = string_stream.getvalue().encode('utf-8')\n",
    "\n",
    "blob = BlobClient(account_url=ACCOUNT_URL,\n",
    "                  container_name=CONTAINER_NAME,\n",
    "                  blob_name=filename,\n",
    "                  credential=SAS_TOKEN)\n",
    "\n",
    "blob.upload_blob(byte_data, overwrite=True)\n",
    "\n",
    "print(f\"Upload complete: {filename} to container '{CONTAINER_NAME}'\")\n"
   ]
  }
 ],
 "metadata": {
  "application/vnd.databricks.v1+notebook": {
   "computePreferences": null,
   "dashboards": [],
   "environmentMetadata": {
    "base_environment": "",
    "environment_version": "2"
   },
   "inputWidgetPreferences": null,
   "language": "python",
   "notebookMetadata": {
    "pythonIndentUnit": 4
   },
   "notebookName": "Webscraping",
   "widgets": {}
  },
  "language_info": {
   "name": "python"
  }
 },
 "nbformat": 4,
 "nbformat_minor": 0
}