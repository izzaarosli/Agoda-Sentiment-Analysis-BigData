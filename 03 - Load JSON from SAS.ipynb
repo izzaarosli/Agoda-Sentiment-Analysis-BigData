{
 "cells": [
  {
   "cell_type": "code",
   "execution_count": 0,
   "metadata": {
    "application/vnd.databricks.v1+cell": {
     "cellMetadata": {
      "byteLimit": 2048000,
      "rowLimit": 10000
     },
     "inputWidgets": {},
     "nuid": "fa1de89a-976c-474b-9525-d73afb0b0536",
     "showTitle": false,
     "tableResultSettingsMap": {},
     "title": ""
    }
   },
   "outputs": [],
   "source": [
    "%pip install emoji langdetect langcodes iso-639 requests\n",
    "\n",
    "import requests\n",
    "import json\n",
    "import pandas as pd\n",
    "import emoji\n",
    "from langdetect import detect, DetectorFactory\n",
    "from langcodes import Language\n",
    "from iso639 import languages\n",
    "from datetime import datetime, timedelta\n",
    "from pyspark.sql import SparkSession\n",
    "\n",
    "spark = SparkSession.builder.getOrCreate()\n",
    "DetectorFactory.seed = 42  # Ensure reproducibility\n",
    "\n",
    "#Step 1: Load JSON Data for Previous Day\n",
    "\n",
    "# Define date range from May 1, 2025 to yesterday\n",
    "start_date = datetime(2025, 5, 1)\n",
    "end_date = datetime.utcnow() + timedelta(hours=8) - timedelta(days=1)\n",
    "\n",
    "date_range = [(start_date + timedelta(days=i)).strftime('%Y%m%d')\n",
    "              for i in range((end_date - start_date).days + 1)]\n",
    "\n",
    "container_url = \"https://wqd7007.blob.core.windows.net/bronze-webscrape\"\n",
    "sas_token = \"sv=2024-11-04&ss=bfqt&srt=sco&sp=rwdlacupiytfx&se=2026-06-30T20:37:08Z&st=2025-05-18T12:37:08Z&spr=https&sig=ztkYcXLKHQ9nC5CE3PThs1OY%2FTDHHzSZ8JD4J6JUc1s%3D\"\n",
    "\n",
    "# Build SAS URL\n",
    "for date_str in date_range:\n",
    "    file_name = f\"agoda_reviews_{date_str}.json\"\n",
    "    sas_url = f\"{container_url}/{file_name}?{sas_token}\"\n",
    "    print(f\"\\nProcessing file for: {date_str}\")\n",
    "\n",
    "    response = requests.get(sas_url)\n",
    "    if response.status_code != 200:\n",
    "        print(f\"Skipping missing file: {file_name}\")\n",
    "        continue\n",
    "\n",
    "    data = response.json()\n",
    "    df = pd.DataFrame(data)\n",
    "    if not data or df.empty or 'content' not in df.columns:\n",
    "        print(f\"Skipping empty or invalid file: {file_name}\")\n",
    "        continue\n",
    "\n",
    "    #Initial Cleaning\n",
    "    df_copied = df.copy(deep=True)\n",
    "    df_copied.drop(columns=['userImage', 'reviewCreatedVersion'], errors='ignore', inplace=True)\n",
    "\n",
    "    #Remove emojis\n",
    "    def remove_emojis(text):\n",
    "        return emoji.replace_emoji(str(text), replace='').strip()\n",
    "\n",
    "    df_copied['content_no_emojis'] = df_copied['content'].apply(remove_emojis)\n",
    "\n",
    "    #Language detection using langdetect\n",
    "    def detect_language(text):\n",
    "        try:\n",
    "            return detect(str(text))\n",
    "        except:\n",
    "            return \"Unknown\"\n",
    "\n",
    "    df_copied['language_code'] = df_copied['content_no_emojis'].astype(str).apply(detect_language)\n",
    "\n",
    "    #Convert ISO codes to full language names\n",
    "    def detect_language_name(code):\n",
    "        try:\n",
    "            return languages.get(part1=code).name\n",
    "        except:\n",
    "            return \"Unknown\"\n",
    "\n",
    "    df_copied['language'] = df_copied['language_code'].apply(detect_language_name)\n",
    "\n",
    "    #Correct English misclassifications via keyword heuristics\n",
    "    english_terms = [\n",
    "        'amazing','advertising','advertisement','average','awful','awesome','awesomeness','a+',\n",
    "        'best','better','brilliant','bravo','comfortable','company','convenience','convenient',\n",
    "        'coupon','customer service','deal','discount','easy to','easy booking','efficient',\n",
    "        'excellent','exceptional','expensive','experience','fake','false','fantastic','fast',\n",
    "        'friendly','fraud','fraudulent','good','great','happy','hassle','helpful','horrible',\n",
    "        'hidden cost','like','liked','love','loved','luv it','marvelous','nice','nice hotel',\n",
    "        'not bad','no comment','not working','okay','okey','ok','outstanding','perfect','poor',\n",
    "        'process','quality','quick','recommended','reliable','response','satisfied','scam',\n",
    "        'scammer','seamless','simple','slow','smart','so far','star','stunning','super','thank',\n",
    "        'thx','to use','transaction','useful','useless','value','very bad','very nice','very well',\n",
    "        'wow','wonderful','worse','worst','works','yeah','yes'\n",
    "    ]\n",
    "\n",
    "    df_cp = df_copied.copy(deep=True)\n",
    "    not_english = df_cp[\"language_code\"] != \"en\"\n",
    "    for term in english_terms:\n",
    "        df_cp.loc[\n",
    "            not_english &\n",
    "            df_cp['content_no_emojis'].str.lower().str.contains(term, na=False),\n",
    "            'language_code'\n",
    "        ] = 'en'\n",
    "    df_cp['language'] = df_cp['language_code'].apply(detect_language_name)\n",
    "\n",
    "    #Manually map zh-cn and zh-tw\n",
    "    df_cp.loc[df_cp['language_code'] == 'zh-cn', 'language'] = 'Chinese'\n",
    "    df_cp.loc[df_cp['language_code'] == 'zh-tw', 'language'] = 'Chinese (Traditional)'\n",
    "\n",
    "    # Step 8: Detect Burmese content by Unicode block\n",
    "    def contains_burmese(text):\n",
    "        return any('\\u1000' <= ch <= '\\u109F' for ch in str(text))\n",
    "\n",
    "    df_cp.loc[(df_cp['language_code'] == 'Unknown') & df_cp['content_no_emojis'].apply(contains_burmese), 'language_code'] = 'my'\n",
    "    df_cp.loc[df_cp['language_code'] == 'my', 'language'] = 'Burmese'\n",
    "\n",
    "    #Convert circled emoji letters to plain English characters\n",
    "    emoji_to_char = {\n",
    "        '\uD83C\uDD50': 'A', '\uD83C\uDD51': 'B', '\uD83C\uDD52': 'C', '\uD83C\uDD53': 'D', '\uD83C\uDD54': 'E', '\uD83C\uDD55': 'F', '\uD83C\uDD56': 'G', '\uD83C\uDD57': 'H', '\uD83C\uDD58': 'I',\n",
    "        '\uD83C\uDD59': 'J', '\uD83C\uDD5A': 'K', '\uD83C\uDD5B': 'L', '\uD83C\uDD5C': 'M', '\uD83C\uDD5D': 'N', '\uD83C\uDD5E': 'O', '\uD83C\uDD5F': 'P', '\uD83C\uDD60': 'Q', '\uD83C\uDD61': 'R',\n",
    "        '\uD83C\uDD62': 'S', '\uD83C\uDD63': 'T', '\uD83C\uDD64': 'U', '\uD83C\uDD65': 'V', '\uD83C\uDD66': 'W', '\uD83C\uDD67': 'X', '\uD83C\uDD68': 'Y', '\uD83C\uDD69': 'Z'\n",
    "    }\n",
    "    def convert_emoji_to_text(text):\n",
    "        return ''.join(emoji_to_char.get(ch, ch) for ch in str(text))\n",
    "\n",
    "    df_cp['content_no_emojis'] = df_cp['content_no_emojis'].astype(str).apply(convert_emoji_to_text)\n",
    "\n",
    "    #Fallback detection for short strings or Unknowns\n",
    "    short_text_lang_dict = {\n",
    "        'nice': 'en', 'bonjour': 'fr', 'hola': 'es', 'ciao': 'it',\n",
    "        'hallo': 'de', 'salamat': 'tl', 'xin chào': 'vi'\n",
    "    }\n",
    "    def detect_lang_code(text):\n",
    "        try:\n",
    "            text = str(text).strip().lower()\n",
    "            if len(text.split()) <= 2:\n",
    "                if text in short_text_lang_dict:\n",
    "                    return short_text_lang_dict[text]\n",
    "            return detect(text)\n",
    "        except:\n",
    "            return \"Unknown\"\n",
    "\n",
    "    # Apply fallback to Unknowns\n",
    "    mask_unknown = df_cp['language'] == 'Unknown'\n",
    "    df_cp.loc[mask_unknown, 'content_no_emojis'] = df_cp.loc[mask_unknown, 'content_no_emojis'].str.lower()\n",
    "    df_cp.loc[mask_unknown, 'language_code'] = df_cp.loc[mask_unknown, 'content_no_emojis'].apply(detect_lang_code)\n",
    "    df_cp.loc[mask_unknown, 'language'] = df_cp.loc[mask_unknown, 'language_code'].apply(detect_language_name)\n",
    "\n",
    "    #Drop Unknown language type as they are empty now\n",
    "    data = df_cp[~(df_cp['language']=='Unknown')].reset_index(drop=True)\n",
    "\n",
    "    #Print results\n",
    "    print(\"Before: \", df_cp.shape)\n",
    "    print(\"After: \", data.shape)\n",
    "    print(\"Difference: \", df_cp.shape[0] - data.shape[0])\n",
    "\n",
    "    #Final output checks\n",
    "    print(f\" Number of languages after dropping Unknown: {data['language'].nunique()}\")\n",
    "    lang_distribution = data['language'].value_counts().reset_index()\n",
    "    lang_distribution.columns = ['language', 'count']\n",
    "    display(lang_distribution)\n",
    "\n",
    "    spark_df = spark.createDataFrame(data)\n",
    "    spark_df.count() \n",
    "\n",
    "    spark_df.write.format(\"delta\") \\\n",
    "        .mode(\"overwrite\") \\\n",
    "        .option(\"overwriteSchema\", \"true\") \\\n",
    "        .saveAsTable(\"silver_dataprocessing.default.silver_agoda_reviews_details\")\n"
   ]
  },
  {
   "cell_type": "code",
   "execution_count": 0,
   "metadata": {
    "application/vnd.databricks.v1+cell": {
     "cellMetadata": {
      "byteLimit": 2048000,
      "implicitDf": true,
      "rowLimit": 10000
     },
     "inputWidgets": {},
     "nuid": "44cf891d-9d2f-4d0b-bb23-2d0b668d0613",
     "showTitle": false,
     "tableResultSettingsMap": {},
     "title": ""
    }
   },
   "outputs": [
    {
     "output_type": "display_data",
     "data": {
      "text/html": [
       "<style scoped>\n",
       "  .table-result-container {\n",
       "    max-height: 300px;\n",
       "    overflow: auto;\n",
       "  }\n",
       "  table, th, td {\n",
       "    border: 1px solid black;\n",
       "    border-collapse: collapse;\n",
       "  }\n",
       "  th, td {\n",
       "    padding: 5px;\n",
       "  }\n",
       "  th {\n",
       "    text-align: left;\n",
       "  }\n",
       "</style><div class='table-result-container'><table class='table-result'><thead style='background-color: white'><tr><th>reviewId</th><th>userName</th><th>content</th><th>score</th><th>thumbsUpCount</th><th>at</th><th>replyContent</th><th>repliedAt</th><th>appVersion</th><th>content_no_emojis</th><th>language_code</th><th>language</th></tr></thead><tbody><tr><td>f05e4047-5b89-4ac3-8d71-e26b9fc6ba5d</td><td>Manoj Jain</td><td>Agoda is a popular hotel booking app known for its wide selection of accommodations worldwide and competitive prices. Whether you’re planning a luxury getaway or a budget trip, Agoda offers great deals with a user-friendly interface that makes booking simple and fast.</td><td>5</td><td>0</td><td>2025-06-03T06:36:15</td><td>Thank you for sharing your positive experience with us. Your feedback is much appreciated.\n",
       "\n",
       "We're glad to know that you're happy and we are looking forward for your next journey with us! Have a wonderful day!</td><td>2025-06-03T06:37:34</td><td>null</td><td>Agoda is a popular hotel booking app known for its wide selection of accommodations worldwide and competitive prices. Whether you’re planning a luxury getaway or a budget trip, Agoda offers great deals with a user-friendly interface that makes booking simple and fast.</td><td>en</td><td>English</td></tr><tr><td>219f7878-1c36-42f4-86ac-5716ac9a5928</td><td>RatedR9o7</td><td>DO NOT USE THIS APP OR BOOK WITH AGODA!!! I booked a room and canceled 3 days before and they still charged me even though it says anything before 24hrs can be canceled. I contacted the hotel manager to dispute it and they said they have no record of my booking so agoda stole my money. and they change the prices on you for the hotel listing.</td><td>1</td><td>0</td><td>2025-06-03T04:54:49</td><td>Hi RatedR9o7, thank you for reaching out to us. We strive to provide the best experience for our customers. Please share your booking ID, email address, and concern through our Help Center page, \"https://www.agoda.com/info/contact.html\". We look forward to assisting you! ^AA</td><td>2025-06-03T05:03:49</td><td>null</td><td>DO NOT USE THIS APP OR BOOK WITH AGODA!!! I booked a room and canceled 3 days before and they still charged me even though it says anything before 24hrs can be canceled. I contacted the hotel manager to dispute it and they said they have no record of my booking so agoda stole my money. and they change the prices on you for the hotel listing.</td><td>en</td><td>English</td></tr><tr><td>b35650c5-8f18-4bd7-9faa-3425d4c15746</td><td>Sirisuk Jintaviwatwong</td><td>ลงแล้วทำเครื่องค้างๆ เปิดแอพอื่นแล้ว crashed เปิดไม่ได้</td><td>1</td><td>0</td><td>2025-06-03T04:53:39</td><td>เราขออภัยในความไม่สะดวกที่เกิดขึ้น เราพยายามอย่างเต็มที่เพื่อมอบประสบการณ์ที่ดีที่สุดให้กับลูกค้าของเรา โปรดแจ้งรหัสการจอง ที่อยู่อีเมล และข้อกังวลของคุณผ่านหน้าศูนย์ช่วยเหลือของเรา \"https://www.agoda.com/info/contact.html\" เราหวังว่าจะได้ช่วยเหลือคุณ ^ Ethan\n",
       "</td><td>2025-06-03T04:59:45</td><td>null</td><td>ลงแล้วทำเครื่องค้างๆ เปิดแอพอื่นแล้ว crashed เปิดไม่ได้</td><td>en</td><td>English</td></tr><tr><td>d577621d-aadd-4595-9425-88c8492fa4ba</td><td>Jiang Zong Zhe</td><td>PayNow QR Payment does not work. Generated QR code cannot be detected</td><td>1</td><td>0</td><td>2025-06-03T03:45:34</td><td>Hi Jiang Zong Zhe,\n",
       "\n",
       "We're sorry for any inconvenience. Please let us assist you with your booking. Send us detailed information by email to googlesupport@agoda.com, and include your case number #1015102 in the subject. We will get back to you as soon as possible.\n",
       "\n",
       "TK</td><td>2025-06-03T03:59:07</td><td>13.19.0</td><td>PayNow QR Payment does not work. Generated QR code cannot be detected</td><td>en</td><td>English</td></tr><tr><td>53d4952f-5fbd-4c82-af3c-8c35c973347d</td><td>Alimsar Limqas</td><td>feedback</td><td>5</td><td>0</td><td>2025-06-03T00:21:24</td><td>Thank you for sharing your positive experience with us. Your feedback is much appreciated.\n",
       "\n",
       "We're glad to know that you're happy and we are looking forward for your next journey with us! Have a wonderful day!</td><td>2025-06-03T00:27:34</td><td>null</td><td>feedback</td><td>en</td><td>English</td></tr></tbody></table></div>"
      ]
     },
     "metadata": {
      "application/vnd.databricks.v1+output": {
       "addedWidgets": {},
       "aggData": [],
       "aggError": "",
       "aggOverflow": false,
       "aggSchema": [],
       "aggSeriesLimitReached": false,
       "aggType": "",
       "arguments": {},
       "columnCustomDisplayInfos": {},
       "data": [
        [
         "f05e4047-5b89-4ac3-8d71-e26b9fc6ba5d",
         "Manoj Jain",
         "Agoda is a popular hotel booking app known for its wide selection of accommodations worldwide and competitive prices. Whether you’re planning a luxury getaway or a budget trip, Agoda offers great deals with a user-friendly interface that makes booking simple and fast.",
         5,
         0,
         "2025-06-03T06:36:15",
         "Thank you for sharing your positive experience with us. Your feedback is much appreciated.\n\nWe're glad to know that you're happy and we are looking forward for your next journey with us! Have a wonderful day!",
         "2025-06-03T06:37:34",
         null,
         "Agoda is a popular hotel booking app known for its wide selection of accommodations worldwide and competitive prices. Whether you’re planning a luxury getaway or a budget trip, Agoda offers great deals with a user-friendly interface that makes booking simple and fast.",
         "en",
         "English"
        ],
        [
         "219f7878-1c36-42f4-86ac-5716ac9a5928",
         "RatedR9o7",
         "DO NOT USE THIS APP OR BOOK WITH AGODA!!! I booked a room and canceled 3 days before and they still charged me even though it says anything before 24hrs can be canceled. I contacted the hotel manager to dispute it and they said they have no record of my booking so agoda stole my money. and they change the prices on you for the hotel listing.",
         1,
         0,
         "2025-06-03T04:54:49",
         "Hi RatedR9o7, thank you for reaching out to us. We strive to provide the best experience for our customers. Please share your booking ID, email address, and concern through our Help Center page, \"https://www.agoda.com/info/contact.html\". We look forward to assisting you! ^AA",
         "2025-06-03T05:03:49",
         null,
         "DO NOT USE THIS APP OR BOOK WITH AGODA!!! I booked a room and canceled 3 days before and they still charged me even though it says anything before 24hrs can be canceled. I contacted the hotel manager to dispute it and they said they have no record of my booking so agoda stole my money. and they change the prices on you for the hotel listing.",
         "en",
         "English"
        ],
        [
         "b35650c5-8f18-4bd7-9faa-3425d4c15746",
         "Sirisuk Jintaviwatwong",
         "ลงแล้วทำเครื่องค้างๆ เปิดแอพอื่นแล้ว crashed เปิดไม่ได้",
         1,
         0,
         "2025-06-03T04:53:39",
         "เราขออภัยในความไม่สะดวกที่เกิดขึ้น เราพยายามอย่างเต็มที่เพื่อมอบประสบการณ์ที่ดีที่สุดให้กับลูกค้าของเรา โปรดแจ้งรหัสการจอง ที่อยู่อีเมล และข้อกังวลของคุณผ่านหน้าศูนย์ช่วยเหลือของเรา \"https://www.agoda.com/info/contact.html\" เราหวังว่าจะได้ช่วยเหลือคุณ ^ Ethan\n",
         "2025-06-03T04:59:45",
         null,
         "ลงแล้วทำเครื่องค้างๆ เปิดแอพอื่นแล้ว crashed เปิดไม่ได้",
         "en",
         "English"
        ],
        [
         "d577621d-aadd-4595-9425-88c8492fa4ba",
         "Jiang Zong Zhe",
         "PayNow QR Payment does not work. Generated QR code cannot be detected",
         1,
         0,
         "2025-06-03T03:45:34",
         "Hi Jiang Zong Zhe,\n\nWe're sorry for any inconvenience. Please let us assist you with your booking. Send us detailed information by email to googlesupport@agoda.com, and include your case number #1015102 in the subject. We will get back to you as soon as possible.\n\nTK",
         "2025-06-03T03:59:07",
         "13.19.0",
         "PayNow QR Payment does not work. Generated QR code cannot be detected",
         "en",
         "English"
        ],
        [
         "53d4952f-5fbd-4c82-af3c-8c35c973347d",
         "Alimsar Limqas",
         "feedback",
         5,
         0,
         "2025-06-03T00:21:24",
         "Thank you for sharing your positive experience with us. Your feedback is much appreciated.\n\nWe're glad to know that you're happy and we are looking forward for your next journey with us! Have a wonderful day!",
         "2025-06-03T00:27:34",
         null,
         "feedback",
         "en",
         "English"
        ]
       ],
       "datasetInfos": [
        {
         "name": "_sqldf",
         "schema": {
          "fields": [
           {
            "metadata": {},
            "name": "reviewId",
            "nullable": true,
            "type": "string"
           },
           {
            "metadata": {},
            "name": "userName",
            "nullable": true,
            "type": "string"
           },
           {
            "metadata": {},
            "name": "content",
            "nullable": true,
            "type": "string"
           },
           {
            "metadata": {},
            "name": "score",
            "nullable": true,
            "type": "long"
           },
           {
            "metadata": {},
            "name": "thumbsUpCount",
            "nullable": true,
            "type": "long"
           },
           {
            "metadata": {},
            "name": "at",
            "nullable": true,
            "type": "string"
           },
           {
            "metadata": {},
            "name": "replyContent",
            "nullable": true,
            "type": "string"
           },
           {
            "metadata": {},
            "name": "repliedAt",
            "nullable": true,
            "type": "string"
           },
           {
            "metadata": {},
            "name": "appVersion",
            "nullable": true,
            "type": "string"
           },
           {
            "metadata": {},
            "name": "content_no_emojis",
            "nullable": true,
            "type": "string"
           },
           {
            "metadata": {},
            "name": "language_code",
            "nullable": true,
            "type": "string"
           },
           {
            "metadata": {},
            "name": "language",
            "nullable": true,
            "type": "string"
           }
          ],
          "type": "struct"
         },
         "tableIdentifier": null,
         "typeStr": "pyspark.sql.connect.dataframe.DataFrame"
        }
       ],
       "dbfsResultPath": null,
       "isJsonSchema": true,
       "metadata": {
        "createTempViewForImplicitDf": true,
        "dataframeName": "_sqldf",
        "executionCount": 8
       },
       "overflow": false,
       "plotOptions": {
        "customPlotOptions": {},
        "displayType": "table",
        "pivotAggregation": null,
        "pivotColumns": null,
        "xColumns": null,
        "yColumns": null
       },
       "removedWidgets": [],
       "schema": [
        {
         "metadata": "{}",
         "name": "reviewId",
         "type": "\"string\""
        },
        {
         "metadata": "{}",
         "name": "userName",
         "type": "\"string\""
        },
        {
         "metadata": "{}",
         "name": "content",
         "type": "\"string\""
        },
        {
         "metadata": "{}",
         "name": "score",
         "type": "\"long\""
        },
        {
         "metadata": "{}",
         "name": "thumbsUpCount",
         "type": "\"long\""
        },
        {
         "metadata": "{}",
         "name": "at",
         "type": "\"string\""
        },
        {
         "metadata": "{}",
         "name": "replyContent",
         "type": "\"string\""
        },
        {
         "metadata": "{}",
         "name": "repliedAt",
         "type": "\"string\""
        },
        {
         "metadata": "{}",
         "name": "appVersion",
         "type": "\"string\""
        },
        {
         "metadata": "{}",
         "name": "content_no_emojis",
         "type": "\"string\""
        },
        {
         "metadata": "{}",
         "name": "language_code",
         "type": "\"string\""
        },
        {
         "metadata": "{}",
         "name": "language",
         "type": "\"string\""
        }
       ],
       "type": "table"
      }
     },
     "output_type": "display_data"
    }
   ],
   "source": [
    "%sql\n",
    "SELECT * FROM silver_dataprocessing.default.silver_agoda_reviews_details\n"
   ]
  }
 ],
 "metadata": {
  "application/vnd.databricks.v1+notebook": {
   "computePreferences": null,
   "dashboards": [],
   "environmentMetadata": {
    "base_environment": "",
    "environment_version": "2"
   },
   "inputWidgetPreferences": null,
   "language": "python",
   "notebookMetadata": {
    "mostRecentlyExecutedCommandWithImplicitDF": {
     "commandId": 4823411113702384,
     "dataframes": [
      "_sqldf"
     ]
    },
    "pythonIndentUnit": 4
   },
   "notebookName": "Load_JSON_from_SAS",
   "widgets": {}
  },
  "language_info": {
   "name": "python"
  }
 },
 "nbformat": 4,
 "nbformat_minor": 0
}